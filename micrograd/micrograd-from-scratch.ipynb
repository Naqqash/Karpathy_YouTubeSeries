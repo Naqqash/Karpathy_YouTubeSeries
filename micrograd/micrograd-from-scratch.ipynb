{
 "cells": [
  {
   "cell_type": "code",
   "execution_count": 157,
   "id": "e01d7a9e-da06-477f-91de-6a9d4b7b63e0",
   "metadata": {},
   "outputs": [
    {
     "name": "stdout",
     "output_type": "stream",
     "text": [
      "Requirement already satisfied: graphviz in /Users/naqqash/Library/Python/3.11/lib/python/site-packages (0.20.1)\n",
      "Collecting torch\n",
      "  Downloading torch-2.0.1-cp311-none-macosx_11_0_arm64.whl (55.8 MB)\n",
      "\u001b[2K     \u001b[38;2;114;156;31m━━━━━━━━━━━━━━━━━━━━━━━━━━━━━━━━━━━━━━━━\u001b[0m \u001b[32m55.8/55.8 MB\u001b[0m \u001b[31m6.2 MB/s\u001b[0m eta \u001b[36m0:00:00\u001b[0mm eta \u001b[36m0:00:01\u001b[0m[36m0:00:01\u001b[0m\n",
      "\u001b[?25hCollecting filelock (from torch)\n",
      "  Obtaining dependency information for filelock from https://files.pythonhosted.org/packages/5e/5d/97afbafd9d584ff1b45fcb354a479a3609bd97f912f8f1f6c563cb1fae21/filelock-3.12.4-py3-none-any.whl.metadata\n",
      "  Downloading filelock-3.12.4-py3-none-any.whl.metadata (2.8 kB)\n",
      "Collecting typing-extensions (from torch)\n",
      "  Obtaining dependency information for typing-extensions from https://files.pythonhosted.org/packages/24/21/7d397a4b7934ff4028987914ac1044d3b7d52712f30e2ac7a2ae5bc86dd0/typing_extensions-4.8.0-py3-none-any.whl.metadata\n",
      "  Downloading typing_extensions-4.8.0-py3-none-any.whl.metadata (3.0 kB)\n",
      "Collecting sympy (from torch)\n",
      "  Using cached sympy-1.12-py3-none-any.whl (5.7 MB)\n",
      "Collecting networkx (from torch)\n",
      "  Using cached networkx-3.1-py3-none-any.whl (2.1 MB)\n",
      "Requirement already satisfied: jinja2 in /opt/homebrew/Cellar/jupyterlab/4.0.6/libexec/lib/python3.11/site-packages (from torch) (3.1.2)\n",
      "Requirement already satisfied: MarkupSafe>=2.0 in /opt/homebrew/Cellar/jupyterlab/4.0.6/libexec/lib/python3.11/site-packages (from jinja2->torch) (2.1.3)\n",
      "Collecting mpmath>=0.19 (from sympy->torch)\n",
      "  Using cached mpmath-1.3.0-py3-none-any.whl (536 kB)\n",
      "Using cached filelock-3.12.4-py3-none-any.whl (11 kB)\n",
      "Using cached typing_extensions-4.8.0-py3-none-any.whl (31 kB)\n",
      "Installing collected packages: mpmath, typing-extensions, sympy, networkx, filelock, torch\n",
      "\u001b[33m  WARNING: The script isympy is installed in '/Users/naqqash/Library/Python/3.11/bin' which is not on PATH.\n",
      "  Consider adding this directory to PATH or, if you prefer to suppress this warning, use --no-warn-script-location.\n",
      "  NOTE: The current PATH contains path(s) starting with `~`, which may not be expanded by all applications.\u001b[0m\u001b[33m\n",
      "\u001b[0m\u001b[33m  WARNING: The scripts convert-caffe2-to-onnx, convert-onnx-to-caffe2 and torchrun are installed in '/Users/naqqash/Library/Python/3.11/bin' which is not on PATH.\n",
      "  Consider adding this directory to PATH or, if you prefer to suppress this warning, use --no-warn-script-location.\n",
      "  NOTE: The current PATH contains path(s) starting with `~`, which may not be expanded by all applications.\u001b[0m\u001b[33m\n",
      "\u001b[0mSuccessfully installed filelock-3.12.4 mpmath-1.3.0 networkx-3.1 sympy-1.12 torch-2.0.1 typing-extensions-4.8.0\n"
     ]
    }
   ],
   "source": [
    "import sys\n",
    "!{sys.executable} -m pip install --user graphviz\n",
    "!{sys.executable} -m pip install --user torch"
   ]
  },
  {
   "cell_type": "code",
   "execution_count": 184,
   "id": "999f15cb-ab38-4414-ab2f-855128b83e10",
   "metadata": {},
   "outputs": [],
   "source": [
    "import math\n",
    "import random\n",
    "import numpy as np\n",
    "import matplotlib.pyplot as plt\n",
    "%matplotlib inline"
   ]
  },
  {
   "cell_type": "code",
   "execution_count": 3,
   "id": "f3317e4c-ead0-44c8-b157-f6a96bdfed79",
   "metadata": {},
   "outputs": [],
   "source": [
    "def f(x):\n",
    "    return 3*x**2 - 4*x + 5"
   ]
  },
  {
   "cell_type": "code",
   "execution_count": 4,
   "id": "5392bc54-b872-4824-aedd-ee9cb36566d2",
   "metadata": {},
   "outputs": [
    {
     "data": {
      "text/plain": [
       "[<matplotlib.lines.Line2D at 0x127b58710>]"
      ]
     },
     "execution_count": 4,
     "metadata": {},
     "output_type": "execute_result"
    },
    {
     "data": {
      "image/png": "[encoded data removed]",
      "text/plain": [
       "<Figure size 640x480 with 1 Axes>"
      ]
     },
     "metadata": {},
     "output_type": "display_data"
    }
   ],
   "source": [
    "xs = np.arange(-5,5.25,0.25)\n",
    "ys = f(xs)\n",
    "plt.plot(xs,ys)"
   ]
  },
  {
   "cell_type": "code",
   "execution_count": 5,
   "id": "ee1d8a05-b5a0-46b2-9756-b88fd2823f75",
   "metadata": {},
   "outputs": [
    {
     "data": {
      "text/plain": [
       "3.0000002482211127e-05"
      ]
     },
     "execution_count": 5,
     "metadata": {},
     "output_type": "execute_result"
    }
   ],
   "source": [
    "h = 0.00001\n",
    "x = 2/3\n",
    "(f(x+h) - f(x))/h"
   ]
  },
  {
   "cell_type": "code",
   "execution_count": 6,
   "id": "c717b313-e592-43b1-a8e3-03ea3bfdd828",
   "metadata": {},
   "outputs": [
    {
     "name": "stdout",
     "output_type": "stream",
     "text": [
      "4.0\n"
     ]
    }
   ],
   "source": [
    "a = 2.0\n",
    "b = -3.0\n",
    "c = 10.0\n",
    "d = a*b + c\n",
    "print(d) "
   ]
  },
  {
   "cell_type": "code",
   "execution_count": 7,
   "id": "08f2242b-3a7c-44de-b780-dfd7299a6fe9",
   "metadata": {},
   "outputs": [
    {
     "name": "stdout",
     "output_type": "stream",
     "text": [
      "d1 4.0\n",
      "d2 4.0001\n",
      "slope 0.9999999999976694\n"
     ]
    }
   ],
   "source": [
    "h = 0.0001\n",
    "\n",
    "#inputs\n",
    "a = 2.0\n",
    "b = -3.0\n",
    "c = 10.0\n",
    "\n",
    "d1 = a*b + c\n",
    "c += h\n",
    "d2 = a*b +c \n",
    "\n",
    "print ('d1', d1)\n",
    "print ('d2', d2)\n",
    "print ('slope', (d2-d1)/h)\n"
   ]
  },
  {
   "cell_type": "code",
   "execution_count": 221,
   "id": "be2b13d9-369c-41d1-bf5c-895d2a80d2c0",
   "metadata": {},
   "outputs": [],
   "source": [
    "class Value:\n",
    "  \n",
    "  def __init__(self, data, _children=(), _op='', label=''):\n",
    "    self.data = data\n",
    "    self.grad = 0.0\n",
    "    self._backward = lambda: None\n",
    "    self._prev = set(_children)\n",
    "    self._op = _op\n",
    "    self.label = label\n",
    "\n",
    "  def __repr__(self):\n",
    "    return f\"Value(data={self.data})\"\n",
    "  \n",
    "  def __add__(self, other):\n",
    "    other = other if isinstance(other, Value) else Value(other)\n",
    "    out = Value(self.data + other.data, (self, other), '+')\n",
    "    \n",
    "    def _backward():\n",
    "      self.grad += 1.0 * out.grad\n",
    "      other.grad += 1.0 * out.grad\n",
    "    out._backward = _backward\n",
    "    \n",
    "    return out\n",
    "\n",
    "  def __mul__(self, other):\n",
    "    other = other if isinstance(other, Value) else Value(other)\n",
    "    out = Value(self.data * other.data, (self, other), '*')\n",
    "    \n",
    "    def _backward():\n",
    "      self.grad += other.data * out.grad\n",
    "      other.grad += self.data * out.grad\n",
    "    out._backward = _backward\n",
    "      \n",
    "    return out\n",
    "  \n",
    "  def __pow__(self, other):\n",
    "    assert isinstance(other, (int, float)), \"only supporting int/float powers for now\"\n",
    "    out = Value(self.data**other, (self,), f'**{other}')\n",
    "\n",
    "    def _backward():\n",
    "        self.grad += other * (self.data ** (other - 1)) * out.grad\n",
    "    out._backward = _backward\n",
    "\n",
    "    return out\n",
    "  \n",
    "  def __rmul__(self, other): # other * self\n",
    "    return self * other\n",
    "\n",
    "  def __truediv__(self, other): # self / other\n",
    "    return self * other**-1\n",
    "\n",
    "  def __neg__(self): # -self\n",
    "    return self * -1\n",
    "\n",
    "  def __sub__(self, other): # self - other\n",
    "    return self + (-other)\n",
    "\n",
    "  def __radd__(self, other): # other + self\n",
    "    return self + other\n",
    "\n",
    "  def tanh(self):\n",
    "    x = self.data\n",
    "    t = (math.exp(2*x) - 1)/(math.exp(2*x) + 1)\n",
    "    out = Value(t, (self, ), 'tanh')\n",
    "    \n",
    "    def _backward():\n",
    "      self.grad += (1 - t**2) * out.grad\n",
    "    out._backward = _backward\n",
    "    \n",
    "    return out\n",
    "  \n",
    "  def exp(self):\n",
    "    x = self.data\n",
    "    out = Value(math.exp(x), (self, ), 'exp')\n",
    "    \n",
    "    def _backward():\n",
    "      self.grad += out.data * out.grad # NOTE: in the video I incorrectly used = instead of +=. Fixed here.\n",
    "    out._backward = _backward\n",
    "    \n",
    "    return out\n",
    "  \n",
    "  \n",
    "  def backward(self):\n",
    "    \n",
    "    topo = []\n",
    "    visited = set()\n",
    "    def build_topo(v):\n",
    "      if v not in visited:\n",
    "        visited.add(v)\n",
    "        for child in v._prev:\n",
    "          build_topo(child)\n",
    "        topo.append(v)\n",
    "    build_topo(self)\n",
    "    \n",
    "    self.grad = 1.0\n",
    "    for node in reversed(topo):\n",
    "      node._backward()\n",
    "        "
   ]
  },
  {
   "cell_type": "code",
   "execution_count": 151,
   "id": "22c97ebc-39f0-4d86-aecb-7a62b61787e6",
   "metadata": {},
   "outputs": [
    {
     "data": {
      "text/plain": [
       "Value(data=6.0)"
      ]
     },
     "execution_count": 151,
     "metadata": {},
     "output_type": "execute_result"
    }
   ],
   "source": [
    "a = Value (3.0)\n",
    "a * 2"
   ]
  },
  {
   "cell_type": "code",
   "execution_count": 47,
   "id": "a6baf65d-5809-4385-8008-507bc1afa079",
   "metadata": {},
   "outputs": [],
   "source": [
    "a = Value(2.0, label = 'a')\n",
    "b = Value(-3.0, label = 'b')\n",
    "c = Value(10.0, label = 'c')\n",
    "\n",
    "e = a*b;\n",
    "e.label = 'e'\n",
    "\n",
    "d = e + c\n",
    "d.lable = 'd'\n",
    "\n",
    "f = Value(-2.0, label='f')\n",
    "L = d*f \n",
    "L.label = 'L'\n"
   ]
  },
  {
   "cell_type": "code",
   "execution_count": null,
   "id": "0f19b25d-e3ad-4ccc-8c2d-e00dda574a98",
   "metadata": {},
   "outputs": [],
   "source": []
  },
  {
   "cell_type": "code",
   "execution_count": 48,
   "id": "d3e7a8f6-e0c3-4fe3-9d8f-f8c47cd2ecfd",
   "metadata": {},
   "outputs": [
    {
     "data": {
      "text/plain": [
       "{Value(data=-6.0), Value(data=10.0)}"
      ]
     },
     "execution_count": 48,
     "metadata": {},
     "output_type": "execute_result"
    }
   ],
   "source": [
    "d._prev"
   ]
  },
  {
   "cell_type": "code",
   "execution_count": 49,
   "id": "78d25d2c-9346-4e2f-9649-8777e581b8f7",
   "metadata": {},
   "outputs": [
    {
     "data": {
      "text/plain": [
       "'+'"
      ]
     },
     "execution_count": 49,
     "metadata": {},
     "output_type": "execute_result"
    }
   ],
   "source": [
    "d._op"
   ]
  },
  {
   "cell_type": "code",
   "execution_count": 111,
   "id": "dbc4427c-68dc-4fa8-ae86-51215eb446bf",
   "metadata": {},
   "outputs": [],
   "source": [
    "from graphviz import Digraph\n",
    "\n",
    "def trace(root):\n",
    "  # builds a set of all nodes and edges in a graph\n",
    "  nodes, edges = set(), set()\n",
    "  def build(v):\n",
    "    if v not in nodes:\n",
    "      nodes.add(v)\n",
    "      for child in v._prev:\n",
    "        edges.add((child, v))\n",
    "        build(child)\n",
    "  build(root)\n",
    "  return nodes, edges\n",
    "\n",
    "def draw_dot(root):\n",
    "  dot = Digraph(format='svg', graph_attr={'rankdir': 'LR'}) # LR = left to right\n",
    "  \n",
    "  nodes, edges = trace(root)\n",
    "  for n in nodes:\n",
    "    uid = str(id(n))\n",
    "    # for any value in the graph, create a rectangular ('record') node for it\n",
    "    dot.node(name = uid, label = \"{ %s | data %.4f | grad %.4f }\" % (n.label, n.data, n.grad), shape='record')\n",
    "    if n._op:\n",
    "      # if this value is a result of some operation, create an op node for it\n",
    "      dot.node(name = uid + n._op, label = n._op)\n",
    "      # and connect this node to it\n",
    "      dot.edge(uid + n._op, uid)\n",
    "\n",
    "  for n1, n2 in edges:\n",
    "    # connect n1 to the op node of n2\n",
    "    dot.edge(str(id(n1)), str(id(n2)) + n2._op)\n",
    "\n",
    "  return dot"
   ]
  },
  {
   "cell_type": "code",
   "execution_count": 51,
   "id": "61c39a97-e570-4fa2-bf47-94e834c9c639",
   "metadata": {},
   "outputs": [
    {
     "data": {
      "image/svg+xml": [
       "<?xml version=\"1.0\" encoding=\"UTF-8\" standalone=\"no\"?>\n",
       "<!DOCTYPE svg PUBLIC \"-//W3C//DTD SVG 1.1//EN\"\n",
       " \"http://www.w3.org/Graphics/SVG/1.1/DTD/svg11.dtd\">\n",
       "<!-- Generated by graphviz version 9.0.0 (20230911.1827)\n",
       " -->\n",
       "<!-- Pages: 1 -->\n",
       "<svg width=\"1140pt\" height=\"128pt\"\n",
       " viewBox=\"0.00 0.00 1139.75 128.00\" xmlns=\"http://www.w3.org/2000/svg\" xmlns:xlink=\"http://www.w3.org/1999/xlink\">\n",
       "<g id=\"graph0\" class=\"graph\" transform=\"scale(1 1) rotate(0) translate(4 124)\">\n",
       "<polygon fill=\"white\" stroke=\"none\" points=\"-4,4 -4,-124 1135.75,-124 1135.75,4 -4,4\"/>\n",
       "<!-- 4962682960 -->\n",
       "<g id=\"node1\" class=\"node\">\n",
       "<title>4962682960</title>\n",
       "<polygon fill=\"none\" stroke=\"black\" points=\"632.62,-27.5 632.62,-63.5 813.38,-63.5 813.38,-27.5 632.62,-27.5\"/>\n",
       "<text text-anchor=\"middle\" x=\"642.5\" y=\"-40.7\" font-family=\"Times,serif\" font-size=\"14.00\"> </text>\n",
       "<polyline fill=\"none\" stroke=\"black\" points=\"652.38,-28 652.38,-63.5\"/>\n",
       "<text text-anchor=\"middle\" x=\"692.25\" y=\"-40.7\" font-family=\"Times,serif\" font-size=\"14.00\">data 4.0000</text>\n",
       "<polyline fill=\"none\" stroke=\"black\" points=\"732.12,-28 732.12,-63.5\"/>\n",
       "<text text-anchor=\"middle\" x=\"772.75\" y=\"-40.7\" font-family=\"Times,serif\" font-size=\"14.00\">grad 0.0000</text>\n",
       "</g>\n",
       "<!-- 4962688336* -->\n",
       "<g id=\"node8\" class=\"node\">\n",
       "<title>4962688336*</title>\n",
       "<ellipse fill=\"none\" stroke=\"black\" cx=\"879\" cy=\"-72.5\" rx=\"27\" ry=\"18\"/>\n",
       "<text text-anchor=\"middle\" x=\"879\" y=\"-67.45\" font-family=\"Times,serif\" font-size=\"14.00\">*</text>\n",
       "</g>\n",
       "<!-- 4962682960&#45;&gt;4962688336* -->\n",
       "<g id=\"edge5\" class=\"edge\">\n",
       "<title>4962682960&#45;&gt;4962688336*</title>\n",
       "<path fill=\"none\" stroke=\"black\" d=\"M813.58,-61.21C823.21,-62.89 832.56,-64.53 841.02,-66.02\"/>\n",
       "<polygon fill=\"black\" stroke=\"black\" points=\"840.38,-69.46 850.84,-67.74 841.59,-62.56 840.38,-69.46\"/>\n",
       "</g>\n",
       "<!-- 4962682960+ -->\n",
       "<g id=\"node2\" class=\"node\">\n",
       "<title>4962682960+</title>\n",
       "<ellipse fill=\"none\" stroke=\"black\" cx=\"567\" cy=\"-45.5\" rx=\"27\" ry=\"18\"/>\n",
       "<text text-anchor=\"middle\" x=\"567\" y=\"-40.45\" font-family=\"Times,serif\" font-size=\"14.00\">+</text>\n",
       "</g>\n",
       "<!-- 4962682960+&#45;&gt;4962682960 -->\n",
       "<g id=\"edge1\" class=\"edge\">\n",
       "<title>4962682960+&#45;&gt;4962682960</title>\n",
       "<path fill=\"none\" stroke=\"black\" d=\"M594.47,-45.5C602.26,-45.5 611.28,-45.5 620.86,-45.5\"/>\n",
       "<polygon fill=\"black\" stroke=\"black\" points=\"620.8,-49 630.8,-45.5 620.8,-42 620.8,-49\"/>\n",
       "</g>\n",
       "<!-- 4962693072 -->\n",
       "<g id=\"node3\" class=\"node\">\n",
       "<title>4962693072</title>\n",
       "<polygon fill=\"none\" stroke=\"black\" points=\"315.38,-55.5 315.38,-91.5 502.88,-91.5 502.88,-55.5 315.38,-55.5\"/>\n",
       "<text text-anchor=\"middle\" x=\"326.38\" y=\"-68.7\" font-family=\"Times,serif\" font-size=\"14.00\">e</text>\n",
       "<polyline fill=\"none\" stroke=\"black\" points=\"337.38,-56 337.38,-91.5\"/>\n",
       "<text text-anchor=\"middle\" x=\"379.5\" y=\"-68.7\" font-family=\"Times,serif\" font-size=\"14.00\">data &#45;6.0000</text>\n",
       "<polyline fill=\"none\" stroke=\"black\" points=\"421.62,-56 421.62,-91.5\"/>\n",
       "<text text-anchor=\"middle\" x=\"462.25\" y=\"-68.7\" font-family=\"Times,serif\" font-size=\"14.00\">grad 0.0000</text>\n",
       "</g>\n",
       "<!-- 4962693072&#45;&gt;4962682960+ -->\n",
       "<g id=\"edge6\" class=\"edge\">\n",
       "<title>4962693072&#45;&gt;4962682960+</title>\n",
       "<path fill=\"none\" stroke=\"black\" d=\"M503.05,-56.81C512.25,-55.16 521.16,-53.56 529.24,-52.1\"/>\n",
       "<polygon fill=\"black\" stroke=\"black\" points=\"529.71,-55.58 538.93,-50.36 528.47,-48.69 529.71,-55.58\"/>\n",
       "</g>\n",
       "<!-- 4962693072* -->\n",
       "<g id=\"node4\" class=\"node\">\n",
       "<title>4962693072*</title>\n",
       "<ellipse fill=\"none\" stroke=\"black\" cx=\"251.25\" cy=\"-73.5\" rx=\"27\" ry=\"18\"/>\n",
       "<text text-anchor=\"middle\" x=\"251.25\" y=\"-68.45\" font-family=\"Times,serif\" font-size=\"14.00\">*</text>\n",
       "</g>\n",
       "<!-- 4962693072*&#45;&gt;4962693072 -->\n",
       "<g id=\"edge2\" class=\"edge\">\n",
       "<title>4962693072*&#45;&gt;4962693072</title>\n",
       "<path fill=\"none\" stroke=\"black\" d=\"M278.69,-73.5C286.1,-73.5 294.64,-73.5 303.71,-73.5\"/>\n",
       "<polygon fill=\"black\" stroke=\"black\" points=\"303.51,-77 313.51,-73.5 303.51,-70 303.51,-77\"/>\n",
       "</g>\n",
       "<!-- 4961507984 -->\n",
       "<g id=\"node5\" class=\"node\">\n",
       "<title>4961507984</title>\n",
       "<polygon fill=\"none\" stroke=\"black\" points=\"0,-83.5 0,-119.5 188.25,-119.5 188.25,-83.5 0,-83.5\"/>\n",
       "<text text-anchor=\"middle\" x=\"11.38\" y=\"-96.7\" font-family=\"Times,serif\" font-size=\"14.00\">b</text>\n",
       "<polyline fill=\"none\" stroke=\"black\" points=\"22.75,-84 22.75,-119.5\"/>\n",
       "<text text-anchor=\"middle\" x=\"64.88\" y=\"-96.7\" font-family=\"Times,serif\" font-size=\"14.00\">data &#45;3.0000</text>\n",
       "<polyline fill=\"none\" stroke=\"black\" points=\"107,-84 107,-119.5\"/>\n",
       "<text text-anchor=\"middle\" x=\"147.62\" y=\"-96.7\" font-family=\"Times,serif\" font-size=\"14.00\">grad 0.0000</text>\n",
       "</g>\n",
       "<!-- 4961507984&#45;&gt;4962693072* -->\n",
       "<g id=\"edge4\" class=\"edge\">\n",
       "<title>4961507984&#45;&gt;4962693072*</title>\n",
       "<path fill=\"none\" stroke=\"black\" d=\"M188.49,-84.65C197.36,-83.05 205.93,-81.5 213.73,-80.09\"/>\n",
       "<polygon fill=\"black\" stroke=\"black\" points=\"214.2,-83.56 223.42,-78.34 212.95,-76.68 214.2,-83.56\"/>\n",
       "</g>\n",
       "<!-- 4961501392 -->\n",
       "<g id=\"node6\" class=\"node\">\n",
       "<title>4961501392</title>\n",
       "<polygon fill=\"none\" stroke=\"black\" points=\"314.25,-0.5 314.25,-36.5 504,-36.5 504,-0.5 314.25,-0.5\"/>\n",
       "<text text-anchor=\"middle\" x=\"325.25\" y=\"-13.7\" font-family=\"Times,serif\" font-size=\"14.00\">c</text>\n",
       "<polyline fill=\"none\" stroke=\"black\" points=\"336.25,-1 336.25,-36.5\"/>\n",
       "<text text-anchor=\"middle\" x=\"379.5\" y=\"-13.7\" font-family=\"Times,serif\" font-size=\"14.00\">data 10.0000</text>\n",
       "<polyline fill=\"none\" stroke=\"black\" points=\"422.75,-1 422.75,-36.5\"/>\n",
       "<text text-anchor=\"middle\" x=\"463.38\" y=\"-13.7\" font-family=\"Times,serif\" font-size=\"14.00\">grad 0.0000</text>\n",
       "</g>\n",
       "<!-- 4961501392&#45;&gt;4962682960+ -->\n",
       "<g id=\"edge7\" class=\"edge\">\n",
       "<title>4961501392&#45;&gt;4962682960+</title>\n",
       "<path fill=\"none\" stroke=\"black\" d=\"M504.39,-34.83C513.16,-36.35 521.65,-37.82 529.37,-39.15\"/>\n",
       "<polygon fill=\"black\" stroke=\"black\" points=\"528.5,-42.56 538.95,-40.81 529.69,-35.66 528.5,-42.56\"/>\n",
       "</g>\n",
       "<!-- 4962688336 -->\n",
       "<g id=\"node7\" class=\"node\">\n",
       "<title>4962688336</title>\n",
       "<polygon fill=\"none\" stroke=\"black\" points=\"942,-54.5 942,-90.5 1131.75,-90.5 1131.75,-54.5 942,-54.5\"/>\n",
       "<text text-anchor=\"middle\" x=\"954.12\" y=\"-67.7\" font-family=\"Times,serif\" font-size=\"14.00\">L</text>\n",
       "<polyline fill=\"none\" stroke=\"black\" points=\"966.25,-55 966.25,-90.5\"/>\n",
       "<text text-anchor=\"middle\" x=\"1008.38\" y=\"-67.7\" font-family=\"Times,serif\" font-size=\"14.00\">data &#45;8.0000</text>\n",
       "<polyline fill=\"none\" stroke=\"black\" points=\"1050.5,-55 1050.5,-90.5\"/>\n",
       "<text text-anchor=\"middle\" x=\"1091.12\" y=\"-67.7\" font-family=\"Times,serif\" font-size=\"14.00\">grad 0.0000</text>\n",
       "</g>\n",
       "<!-- 4962688336*&#45;&gt;4962688336 -->\n",
       "<g id=\"edge3\" class=\"edge\">\n",
       "<title>4962688336*&#45;&gt;4962688336</title>\n",
       "<path fill=\"none\" stroke=\"black\" d=\"M906.44,-72.5C913.59,-72.5 921.78,-72.5 930.49,-72.5\"/>\n",
       "<polygon fill=\"black\" stroke=\"black\" points=\"930.26,-76 940.26,-72.5 930.26,-69 930.26,-76\"/>\n",
       "</g>\n",
       "<!-- 4962688848 -->\n",
       "<g id=\"node9\" class=\"node\">\n",
       "<title>4962688848</title>\n",
       "<polygon fill=\"none\" stroke=\"black\" points=\"2.62,-28.5 2.62,-64.5 185.62,-64.5 185.62,-28.5 2.62,-28.5\"/>\n",
       "<text text-anchor=\"middle\" x=\"13.62\" y=\"-41.7\" font-family=\"Times,serif\" font-size=\"14.00\">a</text>\n",
       "<polyline fill=\"none\" stroke=\"black\" points=\"24.62,-29 24.62,-64.5\"/>\n",
       "<text text-anchor=\"middle\" x=\"64.5\" y=\"-41.7\" font-family=\"Times,serif\" font-size=\"14.00\">data 2.0000</text>\n",
       "<polyline fill=\"none\" stroke=\"black\" points=\"104.38,-29 104.38,-64.5\"/>\n",
       "<text text-anchor=\"middle\" x=\"145\" y=\"-41.7\" font-family=\"Times,serif\" font-size=\"14.00\">grad 0.0000</text>\n",
       "</g>\n",
       "<!-- 4962688848&#45;&gt;4962693072* -->\n",
       "<g id=\"edge9\" class=\"edge\">\n",
       "<title>4962688848&#45;&gt;4962693072*</title>\n",
       "<path fill=\"none\" stroke=\"black\" d=\"M185.81,-62.28C195.45,-63.96 204.82,-65.59 213.29,-67.07\"/>\n",
       "<polygon fill=\"black\" stroke=\"black\" points=\"212.65,-70.51 223.1,-68.77 213.85,-63.61 212.65,-70.51\"/>\n",
       "</g>\n",
       "<!-- 4962237904 -->\n",
       "<g id=\"node10\" class=\"node\">\n",
       "<title>4962237904</title>\n",
       "<polygon fill=\"none\" stroke=\"black\" points=\"630,-82.5 630,-118.5 816,-118.5 816,-82.5 630,-82.5\"/>\n",
       "<text text-anchor=\"middle\" x=\"640.25\" y=\"-95.7\" font-family=\"Times,serif\" font-size=\"14.00\">f</text>\n",
       "<polyline fill=\"none\" stroke=\"black\" points=\"650.5,-83 650.5,-118.5\"/>\n",
       "<text text-anchor=\"middle\" x=\"692.62\" y=\"-95.7\" font-family=\"Times,serif\" font-size=\"14.00\">data &#45;2.0000</text>\n",
       "<polyline fill=\"none\" stroke=\"black\" points=\"734.75,-83 734.75,-118.5\"/>\n",
       "<text text-anchor=\"middle\" x=\"775.38\" y=\"-95.7\" font-family=\"Times,serif\" font-size=\"14.00\">grad 0.0000</text>\n",
       "</g>\n",
       "<!-- 4962237904&#45;&gt;4962688336* -->\n",
       "<g id=\"edge8\" class=\"edge\">\n",
       "<title>4962237904&#45;&gt;4962688336*</title>\n",
       "<path fill=\"none\" stroke=\"black\" d=\"M816.25,-83.73C825.1,-82.12 833.67,-80.56 841.46,-79.14\"/>\n",
       "<polygon fill=\"black\" stroke=\"black\" points=\"841.93,-82.62 851.15,-77.38 840.68,-75.73 841.93,-82.62\"/>\n",
       "</g>\n",
       "</g>\n",
       "</svg>\n"
      ],
      "text/plain": [
       "<graphviz.graphs.Digraph at 0x127cc8390>"
      ]
     },
     "execution_count": 51,
     "metadata": {},
     "output_type": "execute_result"
    }
   ],
   "source": [
    "draw_dot(L)"
   ]
  },
  {
   "cell_type": "code",
   "execution_count": 52,
   "id": "b6fe20fc-23da-4ec5-b9c7-88d051d44db4",
   "metadata": {},
   "outputs": [],
   "source": [
    "c.grad = -2.0\n",
    "e.grad = -2.0"
   ]
  },
  {
   "cell_type": "code",
   "execution_count": 53,
   "id": "0e212510-26c5-4a25-b0dc-669be9c9c26e",
   "metadata": {},
   "outputs": [],
   "source": [
    "a.grad = -2.0 * -3.0\n",
    "b.grad = -2.0 * 2.0"
   ]
  },
  {
   "cell_type": "code",
   "execution_count": 54,
   "id": "cf137c78-41f4-49ff-aab7-e0f19ebd1bcb",
   "metadata": {},
   "outputs": [
    {
     "ename": "SyntaxError",
     "evalue": "cannot assign to expression here. Maybe you meant '==' instead of '='? (3287587479.py, line 2)",
     "output_type": "error",
     "traceback": [
      "\u001b[0;36m  Cell \u001b[0;32mIn[54], line 2\u001b[0;36m\u001b[0m\n\u001b[0;31m    dL/de = -2.0\u001b[0m\n\u001b[0m    ^\u001b[0m\n\u001b[0;31mSyntaxError\u001b[0m\u001b[0;31m:\u001b[0m cannot assign to expression here. Maybe you meant '==' instead of '='?\n"
     ]
    }
   ],
   "source": [
    "# Chain rule Chain rule Chain rule!\n",
    "dL/de = -2.0\n",
    "e = a*b\n",
    "de/da?  b\n",
    "dL/da = (dL / de) * (de/da)"
   ]
  },
  {
   "cell_type": "code",
   "execution_count": 55,
   "id": "6b7e732b-98ae-48c6-8319-66646ad8652f",
   "metadata": {},
   "outputs": [
    {
     "name": "stdout",
     "output_type": "stream",
     "text": [
      "-7.4352\n"
     ]
    }
   ],
   "source": [
    "a.data += 0.01 * a.grad\n",
    "b.data += 0.01 * b.grad\n",
    "c.data += 0.01 * c.grad\n",
    "f.data += 0.01 * f.grad\n",
    "\n",
    "e = a * b\n",
    "d = e + c\n",
    "L = d * f\n",
    "\n",
    "print(L.data)"
   ]
  },
  {
   "cell_type": "code",
   "execution_count": 56,
   "id": "7f837fe8-cc4e-4c1e-b317-6e5437fcbf9d",
   "metadata": {},
   "outputs": [],
   "source": [
    "# Backpropogate through a neurons"
   ]
  },
  {
   "cell_type": "code",
   "execution_count": 57,
   "id": "ad001a0a-2091-43d8-b6c6-8f03954c9405",
   "metadata": {},
   "outputs": [],
   "source": [
    "#Tanh function "
   ]
  },
  {
   "cell_type": "code",
   "execution_count": 58,
   "id": "03307b72-81fa-4c91-863c-50614168dc48",
   "metadata": {},
   "outputs": [
    {
     "data": {
      "image/png": "[encoded data removed]",
      "text/plain": [
       "<Figure size 640x480 with 1 Axes>"
      ]
     },
     "metadata": {},
     "output_type": "display_data"
    }
   ],
   "source": [
    "plt.plot(np.arange(-5,5,0.2), np.tanh(np.arange(-5,5,0.2))); plt.grid();"
   ]
  },
  {
   "cell_type": "code",
   "execution_count": 162,
   "id": "00d84d60-78f1-462d-bf5c-262e4f106b2a",
   "metadata": {},
   "outputs": [],
   "source": [
    "x1 = Value(2.0, label = 'x1')\n",
    "x2 = Value(0.0, label = 'x2')\n",
    "w1 = Value(-3.0, label = 'w1')\n",
    "w2 = Value(1.0, label  = 'w2')\n",
    "\n",
    "b  = Value(6.8813735870195432, label = 'b')\n",
    "\n",
    "x1w1 = x1*w1; x1w1.label = 'x1*w1'\n",
    "x2w2 = x2*w2; x2w2.label = 'x2*w2'\n",
    "\n",
    "x1w1x2w2 = x1w1 + x2w2; x1w1x2w2.label = 'x1*w1 + x2*w2'\n",
    "\n",
    "n = x1w1x2w2 + b; label = 'n'\n",
    "\n",
    "o = n.tanh(); o.label = 'o'\n",
    "\n",
    "o.grad = 1.0\n",
    "\n",
    "o.backward()"
   ]
  },
  {
   "cell_type": "code",
   "execution_count": 163,
   "id": "4fc93ef1-3547-4f10-9d2c-6d0b4dc18fca",
   "metadata": {},
   "outputs": [
    {
     "data": {
      "image/svg+xml": [
       "<?xml version=\"1.0\" encoding=\"UTF-8\" standalone=\"no\"?>\n",
       "<!DOCTYPE svg PUBLIC \"-//W3C//DTD SVG 1.1//EN\"\n",
       " \"http://www.w3.org/Graphics/SVG/1.1/DTD/svg11.dtd\">\n",
       "<!-- Generated by graphviz version 9.0.0 (20230911.1827)\n",
       " -->\n",
       "<!-- Pages: 1 -->\n",
       "<svg width=\"1564pt\" height=\"210pt\"\n",
       " viewBox=\"0.00 0.00 1563.50 210.00\" xmlns=\"http://www.w3.org/2000/svg\" xmlns:xlink=\"http://www.w3.org/1999/xlink\">\n",
       "<g id=\"graph0\" class=\"graph\" transform=\"scale(1 1) rotate(0) translate(4 206)\">\n",
       "<polygon fill=\"white\" stroke=\"none\" points=\"-4,4 -4,-206 1559.5,-206 1559.5,4 -4,4\"/>\n",
       "<!-- 6050160656 -->\n",
       "<g id=\"node1\" class=\"node\">\n",
       "<title>6050160656</title>\n",
       "<polygon fill=\"none\" stroke=\"black\" points=\"2.25,-165.5 2.25,-201.5 195.75,-201.5 195.75,-165.5 2.25,-165.5\"/>\n",
       "<text text-anchor=\"middle\" x=\"18.5\" y=\"-178.7\" font-family=\"Times,serif\" font-size=\"14.00\">w2</text>\n",
       "<polyline fill=\"none\" stroke=\"black\" points=\"34.75,-166 34.75,-201.5\"/>\n",
       "<text text-anchor=\"middle\" x=\"74.62\" y=\"-178.7\" font-family=\"Times,serif\" font-size=\"14.00\">data 1.0000</text>\n",
       "<polyline fill=\"none\" stroke=\"black\" points=\"114.5,-166 114.5,-201.5\"/>\n",
       "<text text-anchor=\"middle\" x=\"155.12\" y=\"-178.7\" font-family=\"Times,serif\" font-size=\"14.00\">grad 0.0000</text>\n",
       "</g>\n",
       "<!-- 6052148048* -->\n",
       "<g id=\"node12\" class=\"node\">\n",
       "<title>6052148048*</title>\n",
       "<ellipse fill=\"none\" stroke=\"black\" cx=\"261\" cy=\"-128.5\" rx=\"27\" ry=\"18\"/>\n",
       "<text text-anchor=\"middle\" x=\"261\" y=\"-123.45\" font-family=\"Times,serif\" font-size=\"14.00\">*</text>\n",
       "</g>\n",
       "<!-- 6050160656&#45;&gt;6052148048* -->\n",
       "<g id=\"edge6\" class=\"edge\">\n",
       "<title>6050160656&#45;&gt;6052148048*</title>\n",
       "<path fill=\"none\" stroke=\"black\" d=\"M172.12,-165.01C180.9,-162.35 189.7,-159.5 198,-156.5 208.09,-152.86 218.82,-148.27 228.47,-143.88\"/>\n",
       "<polygon fill=\"black\" stroke=\"black\" points=\"229.86,-147.09 237.45,-139.69 226.9,-140.75 229.86,-147.09\"/>\n",
       "</g>\n",
       "<!-- 6052149392 -->\n",
       "<g id=\"node2\" class=\"node\">\n",
       "<title>6052149392</title>\n",
       "<polygon fill=\"none\" stroke=\"black\" points=\"324,-55.5 324,-91.5 542.25,-91.5 542.25,-55.5 324,-55.5\"/>\n",
       "<text text-anchor=\"middle\" x=\"350.38\" y=\"-68.7\" font-family=\"Times,serif\" font-size=\"14.00\">x1*w1</text>\n",
       "<polyline fill=\"none\" stroke=\"black\" points=\"376.75,-56 376.75,-91.5\"/>\n",
       "<text text-anchor=\"middle\" x=\"418.88\" y=\"-68.7\" font-family=\"Times,serif\" font-size=\"14.00\">data &#45;6.0000</text>\n",
       "<polyline fill=\"none\" stroke=\"black\" points=\"461,-56 461,-91.5\"/>\n",
       "<text text-anchor=\"middle\" x=\"501.62\" y=\"-68.7\" font-family=\"Times,serif\" font-size=\"14.00\">grad 0.5000</text>\n",
       "</g>\n",
       "<!-- 6052147856+ -->\n",
       "<g id=\"node6\" class=\"node\">\n",
       "<title>6052147856+</title>\n",
       "<ellipse fill=\"none\" stroke=\"black\" cx=\"605.25\" cy=\"-100.5\" rx=\"27\" ry=\"18\"/>\n",
       "<text text-anchor=\"middle\" x=\"605.25\" y=\"-95.45\" font-family=\"Times,serif\" font-size=\"14.00\">+</text>\n",
       "</g>\n",
       "<!-- 6052149392&#45;&gt;6052147856+ -->\n",
       "<g id=\"edge12\" class=\"edge\">\n",
       "<title>6052149392&#45;&gt;6052147856+</title>\n",
       "<path fill=\"none\" stroke=\"black\" d=\"M542.35,-90.68C551.12,-92.07 559.54,-93.4 567.19,-94.62\"/>\n",
       "<polygon fill=\"black\" stroke=\"black\" points=\"566.59,-98.07 577.02,-96.18 567.69,-91.15 566.59,-98.07\"/>\n",
       "</g>\n",
       "<!-- 6052149392* -->\n",
       "<g id=\"node3\" class=\"node\">\n",
       "<title>6052149392*</title>\n",
       "<ellipse fill=\"none\" stroke=\"black\" cx=\"261\" cy=\"-73.5\" rx=\"27\" ry=\"18\"/>\n",
       "<text text-anchor=\"middle\" x=\"261\" y=\"-68.45\" font-family=\"Times,serif\" font-size=\"14.00\">*</text>\n",
       "</g>\n",
       "<!-- 6052149392*&#45;&gt;6052149392 -->\n",
       "<g id=\"edge1\" class=\"edge\">\n",
       "<title>6052149392*&#45;&gt;6052149392</title>\n",
       "<path fill=\"none\" stroke=\"black\" d=\"M288.21,-73.5C295.29,-73.5 303.43,-73.5 312.17,-73.5\"/>\n",
       "<polygon fill=\"black\" stroke=\"black\" points=\"312.01,-77 322.01,-73.5 312.01,-70 312.01,-77\"/>\n",
       "</g>\n",
       "<!-- 6050160784 -->\n",
       "<g id=\"node4\" class=\"node\">\n",
       "<title>6050160784</title>\n",
       "<polygon fill=\"none\" stroke=\"black\" points=\"1.5,-55.5 1.5,-91.5 196.5,-91.5 196.5,-55.5 1.5,-55.5\"/>\n",
       "<text text-anchor=\"middle\" x=\"16.25\" y=\"-68.7\" font-family=\"Times,serif\" font-size=\"14.00\">x1</text>\n",
       "<polyline fill=\"none\" stroke=\"black\" points=\"31,-56 31,-91.5\"/>\n",
       "<text text-anchor=\"middle\" x=\"70.88\" y=\"-68.7\" font-family=\"Times,serif\" font-size=\"14.00\">data 2.0000</text>\n",
       "<polyline fill=\"none\" stroke=\"black\" points=\"110.75,-56 110.75,-91.5\"/>\n",
       "<text text-anchor=\"middle\" x=\"153.62\" y=\"-68.7\" font-family=\"Times,serif\" font-size=\"14.00\">grad &#45;1.5000</text>\n",
       "</g>\n",
       "<!-- 6050160784&#45;&gt;6052149392* -->\n",
       "<g id=\"edge14\" class=\"edge\">\n",
       "<title>6050160784&#45;&gt;6052149392*</title>\n",
       "<path fill=\"none\" stroke=\"black\" d=\"M196.76,-73.5C205.77,-73.5 214.47,-73.5 222.4,-73.5\"/>\n",
       "<polygon fill=\"black\" stroke=\"black\" points=\"222.25,-77 232.25,-73.5 222.25,-70 222.25,-77\"/>\n",
       "</g>\n",
       "<!-- 6052147856 -->\n",
       "<g id=\"node5\" class=\"node\">\n",
       "<title>6052147856</title>\n",
       "<polygon fill=\"none\" stroke=\"black\" points=\"668.25,-82.5 668.25,-118.5 939,-118.5 939,-82.5 668.25,-82.5\"/>\n",
       "<text text-anchor=\"middle\" x=\"720.88\" y=\"-95.7\" font-family=\"Times,serif\" font-size=\"14.00\">x1*w1 + x2*w2</text>\n",
       "<polyline fill=\"none\" stroke=\"black\" points=\"773.5,-83 773.5,-118.5\"/>\n",
       "<text text-anchor=\"middle\" x=\"815.62\" y=\"-95.7\" font-family=\"Times,serif\" font-size=\"14.00\">data &#45;6.0000</text>\n",
       "<polyline fill=\"none\" stroke=\"black\" points=\"857.75,-83 857.75,-118.5\"/>\n",
       "<text text-anchor=\"middle\" x=\"898.38\" y=\"-95.7\" font-family=\"Times,serif\" font-size=\"14.00\">grad 0.5000</text>\n",
       "</g>\n",
       "<!-- 6052150672+ -->\n",
       "<g id=\"node14\" class=\"node\">\n",
       "<title>6052150672+</title>\n",
       "<ellipse fill=\"none\" stroke=\"black\" cx=\"1002\" cy=\"-72.5\" rx=\"27\" ry=\"18\"/>\n",
       "<text text-anchor=\"middle\" x=\"1002\" y=\"-67.45\" font-family=\"Times,serif\" font-size=\"14.00\">+</text>\n",
       "</g>\n",
       "<!-- 6052147856&#45;&gt;6052150672+ -->\n",
       "<g id=\"edge8\" class=\"edge\">\n",
       "<title>6052147856&#45;&gt;6052150672+</title>\n",
       "<path fill=\"none\" stroke=\"black\" d=\"M934.24,-82.02C944.99,-80.49 955.18,-79.03 964.21,-77.75\"/>\n",
       "<polygon fill=\"black\" stroke=\"black\" points=\"964.46,-81.25 973.86,-76.37 963.47,-74.32 964.46,-81.25\"/>\n",
       "</g>\n",
       "<!-- 6052147856+&#45;&gt;6052147856 -->\n",
       "<g id=\"edge2\" class=\"edge\">\n",
       "<title>6052147856+&#45;&gt;6052147856</title>\n",
       "<path fill=\"none\" stroke=\"black\" d=\"M632.73,-100.5C639.73,-100.5 647.79,-100.5 656.52,-100.5\"/>\n",
       "<polygon fill=\"black\" stroke=\"black\" points=\"656.39,-104 666.39,-100.5 656.39,-97 656.39,-104\"/>\n",
       "</g>\n",
       "<!-- 6050159248 -->\n",
       "<g id=\"node7\" class=\"node\">\n",
       "<title>6050159248</title>\n",
       "<polygon fill=\"none\" stroke=\"black\" points=\"0,-0.5 0,-36.5 198,-36.5 198,-0.5 0,-0.5\"/>\n",
       "<text text-anchor=\"middle\" x=\"16.25\" y=\"-13.7\" font-family=\"Times,serif\" font-size=\"14.00\">w1</text>\n",
       "<polyline fill=\"none\" stroke=\"black\" points=\"32.5,-1 32.5,-36.5\"/>\n",
       "<text text-anchor=\"middle\" x=\"74.62\" y=\"-13.7\" font-family=\"Times,serif\" font-size=\"14.00\">data &#45;3.0000</text>\n",
       "<polyline fill=\"none\" stroke=\"black\" points=\"116.75,-1 116.75,-36.5\"/>\n",
       "<text text-anchor=\"middle\" x=\"157.38\" y=\"-13.7\" font-family=\"Times,serif\" font-size=\"14.00\">grad 1.0000</text>\n",
       "</g>\n",
       "<!-- 6050159248&#45;&gt;6052149392* -->\n",
       "<g id=\"edge13\" class=\"edge\">\n",
       "<title>6050159248&#45;&gt;6052149392*</title>\n",
       "<path fill=\"none\" stroke=\"black\" d=\"M168.91,-36.94C178.74,-39.93 188.67,-43.15 198,-46.5 207.96,-50.07 218.58,-54.47 228.18,-58.68\"/>\n",
       "<polygon fill=\"black\" stroke=\"black\" points=\"226.54,-61.78 237.1,-62.67 229.4,-55.39 226.54,-61.78\"/>\n",
       "</g>\n",
       "<!-- 6052149968 -->\n",
       "<g id=\"node8\" class=\"node\">\n",
       "<title>6052149968</title>\n",
       "<polygon fill=\"none\" stroke=\"black\" points=\"1371.75,-54.5 1371.75,-90.5 1555.5,-90.5 1555.5,-54.5 1371.75,-54.5\"/>\n",
       "<text text-anchor=\"middle\" x=\"1383.12\" y=\"-67.7\" font-family=\"Times,serif\" font-size=\"14.00\">o</text>\n",
       "<polyline fill=\"none\" stroke=\"black\" points=\"1394.5,-55 1394.5,-90.5\"/>\n",
       "<text text-anchor=\"middle\" x=\"1434.38\" y=\"-67.7\" font-family=\"Times,serif\" font-size=\"14.00\">data 0.7071</text>\n",
       "<polyline fill=\"none\" stroke=\"black\" points=\"1474.25,-55 1474.25,-90.5\"/>\n",
       "<text text-anchor=\"middle\" x=\"1514.88\" y=\"-67.7\" font-family=\"Times,serif\" font-size=\"14.00\">grad 1.0000</text>\n",
       "</g>\n",
       "<!-- 6052149968tanh -->\n",
       "<g id=\"node9\" class=\"node\">\n",
       "<title>6052149968tanh</title>\n",
       "<ellipse fill=\"none\" stroke=\"black\" cx=\"1308.75\" cy=\"-72.5\" rx=\"27\" ry=\"18\"/>\n",
       "<text text-anchor=\"middle\" x=\"1308.75\" y=\"-67.45\" font-family=\"Times,serif\" font-size=\"14.00\">tanh</text>\n",
       "</g>\n",
       "<!-- 6052149968tanh&#45;&gt;6052149968 -->\n",
       "<g id=\"edge3\" class=\"edge\">\n",
       "<title>6052149968tanh&#45;&gt;6052149968</title>\n",
       "<path fill=\"none\" stroke=\"black\" d=\"M1336.03,-72.5C1343.17,-72.5 1351.36,-72.5 1360.07,-72.5\"/>\n",
       "<polygon fill=\"black\" stroke=\"black\" points=\"1359.81,-76 1369.81,-72.5 1359.81,-69 1359.81,-76\"/>\n",
       "</g>\n",
       "<!-- 6050158480 -->\n",
       "<g id=\"node10\" class=\"node\">\n",
       "<title>6050158480</title>\n",
       "<polygon fill=\"none\" stroke=\"black\" points=\"3.75,-110.5 3.75,-146.5 194.25,-146.5 194.25,-110.5 3.75,-110.5\"/>\n",
       "<text text-anchor=\"middle\" x=\"18.5\" y=\"-123.7\" font-family=\"Times,serif\" font-size=\"14.00\">x2</text>\n",
       "<polyline fill=\"none\" stroke=\"black\" points=\"33.25,-111 33.25,-146.5\"/>\n",
       "<text text-anchor=\"middle\" x=\"73.12\" y=\"-123.7\" font-family=\"Times,serif\" font-size=\"14.00\">data 0.0000</text>\n",
       "<polyline fill=\"none\" stroke=\"black\" points=\"113,-111 113,-146.5\"/>\n",
       "<text text-anchor=\"middle\" x=\"153.62\" y=\"-123.7\" font-family=\"Times,serif\" font-size=\"14.00\">grad 0.5000</text>\n",
       "</g>\n",
       "<!-- 6050158480&#45;&gt;6052148048* -->\n",
       "<g id=\"edge10\" class=\"edge\">\n",
       "<title>6050158480&#45;&gt;6052148048*</title>\n",
       "<path fill=\"none\" stroke=\"black\" d=\"M194.46,-128.5C204.21,-128.5 213.66,-128.5 222.21,-128.5\"/>\n",
       "<polygon fill=\"black\" stroke=\"black\" points=\"222.12,-132 232.12,-128.5 222.12,-125 222.12,-132\"/>\n",
       "</g>\n",
       "<!-- 6052148048 -->\n",
       "<g id=\"node11\" class=\"node\">\n",
       "<title>6052148048</title>\n",
       "<polygon fill=\"none\" stroke=\"black\" points=\"326.25,-110.5 326.25,-146.5 540,-146.5 540,-110.5 326.25,-110.5\"/>\n",
       "<text text-anchor=\"middle\" x=\"352.62\" y=\"-123.7\" font-family=\"Times,serif\" font-size=\"14.00\">x2*w2</text>\n",
       "<polyline fill=\"none\" stroke=\"black\" points=\"379,-111 379,-146.5\"/>\n",
       "<text text-anchor=\"middle\" x=\"418.88\" y=\"-123.7\" font-family=\"Times,serif\" font-size=\"14.00\">data 0.0000</text>\n",
       "<polyline fill=\"none\" stroke=\"black\" points=\"458.75,-111 458.75,-146.5\"/>\n",
       "<text text-anchor=\"middle\" x=\"499.38\" y=\"-123.7\" font-family=\"Times,serif\" font-size=\"14.00\">grad 0.5000</text>\n",
       "</g>\n",
       "<!-- 6052148048&#45;&gt;6052147856+ -->\n",
       "<g id=\"edge7\" class=\"edge\">\n",
       "<title>6052148048&#45;&gt;6052147856+</title>\n",
       "<path fill=\"none\" stroke=\"black\" d=\"M540.42,-111.01C549.89,-109.45 559,-107.95 567.21,-106.6\"/>\n",
       "<polygon fill=\"black\" stroke=\"black\" points=\"567.75,-110.05 577.05,-104.98 566.62,-103.15 567.75,-110.05\"/>\n",
       "</g>\n",
       "<!-- 6052148048*&#45;&gt;6052148048 -->\n",
       "<g id=\"edge4\" class=\"edge\">\n",
       "<title>6052148048*&#45;&gt;6052148048</title>\n",
       "<path fill=\"none\" stroke=\"black\" d=\"M288.21,-128.5C296,-128.5 305.08,-128.5 314.82,-128.5\"/>\n",
       "<polygon fill=\"black\" stroke=\"black\" points=\"314.55,-132 324.55,-128.5 314.55,-125 314.55,-132\"/>\n",
       "</g>\n",
       "<!-- 6052150672 -->\n",
       "<g id=\"node13\" class=\"node\">\n",
       "<title>6052150672</title>\n",
       "<polygon fill=\"none\" stroke=\"black\" points=\"1065,-54.5 1065,-90.5 1245.75,-90.5 1245.75,-54.5 1065,-54.5\"/>\n",
       "<text text-anchor=\"middle\" x=\"1074.88\" y=\"-67.7\" font-family=\"Times,serif\" font-size=\"14.00\"> </text>\n",
       "<polyline fill=\"none\" stroke=\"black\" points=\"1084.75,-55 1084.75,-90.5\"/>\n",
       "<text text-anchor=\"middle\" x=\"1124.62\" y=\"-67.7\" font-family=\"Times,serif\" font-size=\"14.00\">data 0.8814</text>\n",
       "<polyline fill=\"none\" stroke=\"black\" points=\"1164.5,-55 1164.5,-90.5\"/>\n",
       "<text text-anchor=\"middle\" x=\"1205.12\" y=\"-67.7\" font-family=\"Times,serif\" font-size=\"14.00\">grad 0.5000</text>\n",
       "</g>\n",
       "<!-- 6052150672&#45;&gt;6052149968tanh -->\n",
       "<g id=\"edge11\" class=\"edge\">\n",
       "<title>6052150672&#45;&gt;6052149968tanh</title>\n",
       "<path fill=\"none\" stroke=\"black\" d=\"M1246.18,-72.5C1254.52,-72.5 1262.62,-72.5 1270.06,-72.5\"/>\n",
       "<polygon fill=\"black\" stroke=\"black\" points=\"1270,-76 1280,-72.5 1270,-69 1270,-76\"/>\n",
       "</g>\n",
       "<!-- 6052150672+&#45;&gt;6052150672 -->\n",
       "<g id=\"edge5\" class=\"edge\">\n",
       "<title>6052150672+&#45;&gt;6052150672</title>\n",
       "<path fill=\"none\" stroke=\"black\" d=\"M1029.37,-72.5C1036.51,-72.5 1044.7,-72.5 1053.39,-72.5\"/>\n",
       "<polygon fill=\"black\" stroke=\"black\" points=\"1053.11,-76 1063.11,-72.5 1053.11,-69 1053.11,-76\"/>\n",
       "</g>\n",
       "<!-- 6050158544 -->\n",
       "<g id=\"node15\" class=\"node\">\n",
       "<title>6050158544</title>\n",
       "<polygon fill=\"none\" stroke=\"black\" points=\"711.75,-27.5 711.75,-63.5 895.5,-63.5 895.5,-27.5 711.75,-27.5\"/>\n",
       "<text text-anchor=\"middle\" x=\"723.12\" y=\"-40.7\" font-family=\"Times,serif\" font-size=\"14.00\">b</text>\n",
       "<polyline fill=\"none\" stroke=\"black\" points=\"734.5,-28 734.5,-63.5\"/>\n",
       "<text text-anchor=\"middle\" x=\"774.38\" y=\"-40.7\" font-family=\"Times,serif\" font-size=\"14.00\">data 6.8814</text>\n",
       "<polyline fill=\"none\" stroke=\"black\" points=\"814.25,-28 814.25,-63.5\"/>\n",
       "<text text-anchor=\"middle\" x=\"854.88\" y=\"-40.7\" font-family=\"Times,serif\" font-size=\"14.00\">grad 0.5000</text>\n",
       "</g>\n",
       "<!-- 6050158544&#45;&gt;6052150672+ -->\n",
       "<g id=\"edge9\" class=\"edge\">\n",
       "<title>6050158544&#45;&gt;6052150672+</title>\n",
       "<path fill=\"none\" stroke=\"black\" d=\"M895.91,-58.05C919.97,-61.36 944.58,-64.74 963.93,-67.4\"/>\n",
       "<polygon fill=\"black\" stroke=\"black\" points=\"963.36,-70.86 973.75,-68.75 964.32,-63.92 963.36,-70.86\"/>\n",
       "</g>\n",
       "</g>\n",
       "</svg>\n"
      ],
      "text/plain": [
       "<graphviz.graphs.Digraph at 0x127cb6810>"
      ]
     },
     "execution_count": 163,
     "metadata": {},
     "output_type": "execute_result"
    }
   ],
   "source": [
    "draw_dot(o)"
   ]
  },
  {
   "cell_type": "code",
   "execution_count": null,
   "id": "2c8c2b3f-4b32-4e76-9cfb-a145a643ab6a",
   "metadata": {},
   "outputs": [],
   "source": [
    "\n",
    "# topological sort -> https://en.wikipedia.org/wiki/Topological_sorting"
   ]
  },
  {
   "cell_type": "code",
   "execution_count": null,
   "id": "6953c9ee-1d9e-44b5-8214-47add6ce477c",
   "metadata": {},
   "outputs": [],
   "source": [
    "# we have a bug! gradients are accumulating for a multi variable chain rule case so we should be using += "
   ]
  },
  {
   "cell_type": "code",
   "execution_count": 160,
   "id": "719aa089-c37a-4a4a-b648-0e787017e2d8",
   "metadata": {},
   "outputs": [
    {
     "name": "stdout",
     "output_type": "stream",
     "text": [
      "0.7071066904050358\n",
      "----\n",
      "x2 0.5000001283844369\n",
      "w2 0.0\n",
      "x1 -1.5000003851533106\n",
      "w1 1.0000002567688737\n"
     ]
    }
   ],
   "source": [
    "import torch\n",
    "\n",
    "x1 = torch.Tensor([2.0]).double() ; x1.requires_grad = True\n",
    "x2 = torch.Tensor([0.0]).double() ; x2.requires_grad = True\n",
    "\n",
    "w1 = torch.Tensor([-3.0]).double() ; w1.requires_grad = True\n",
    "w2 = torch.Tensor([1.0]).double() ; w2.requires_grad = True\n",
    "\n",
    "b = torch.Tensor([6.8813735870195432]).double() ; b.requires_grad = True\n",
    "\n",
    "n = x1*w1 + x2*w2 + b\n",
    "o = torch.tanh(n)\n",
    "\n",
    "print(o.data.item())\n",
    "o.backward()\n",
    "\n",
    "print('----')\n",
    "\n",
    "print('x2', x2.grad.item())\n",
    "print('w2', w2.grad.item())\n",
    "\n",
    "print('x1', x1.grad.item())\n",
    "print('w1', w1.grad.item())\n"
   ]
  },
  {
   "cell_type": "code",
   "execution_count": null,
   "id": "9de3f44c-b788-41c4-b422-2b5255020ef9",
   "metadata": {},
   "outputs": [],
   "source": []
  },
  {
   "cell_type": "code",
   "execution_count": 244,
   "id": "8f0eaa6e-40d0-4022-9576-52af88b99ec5",
   "metadata": {},
   "outputs": [],
   "source": [
    "class Neuron:\n",
    "\n",
    "    def __init__(self,nin):\n",
    "        self.w = [Value(random.uniform(-1,1)) for _ in range(nin)]\n",
    "        self.b = Value(random.uniform(-1,1))\n",
    "\n",
    "    def __call__(self,x):\n",
    "        # w * x + b\n",
    "        act = sum((wi*xi for wi, xi in zip(self.w, x)), self.b)\n",
    "        out = act.tanh()\n",
    "\n",
    "        return out\n",
    "\n",
    "    def parameters(self):\n",
    "        return self.w + [self.b]\n",
    "\n",
    "class Layer:\n",
    "    \n",
    "    def __init__(self, nin, nout):\n",
    "        self.neurons = [Neuron(nin) for _ in range(nout)]\n",
    "  \n",
    "    def __call__(self, x):\n",
    "        outs = [n(x) for n in self.neurons]\n",
    "        return outs[0] if len(outs) == 1 else outs\n",
    "  \n",
    "    def parameters(self):\n",
    "        return [p for neuron in self.neurons for p in neuron.parameters()]\n",
    "\n",
    "class MLP:\n",
    "\n",
    "    def __init__(self, nin, nouts):\n",
    "        sz = [nin] + nouts\n",
    "        self.layers = [Layer(sz[i], sz[i+1]) for i in range(len(nouts))]\n",
    "    def __call__(self,x):\n",
    "        for layer in self.layers:\n",
    "            x = layer(x)\n",
    "        return x\n",
    "    def parameters(self):\n",
    "        return [p for layer in self.layers for p in layer.parameters()]"
   ]
  },
  {
   "cell_type": "code",
   "execution_count": 245,
   "id": "f4634f94-daa4-4485-b985-ed392556acb3",
   "metadata": {},
   "outputs": [
    {
     "data": {
      "text/plain": [
       "Value(data=-0.5997326069995506)"
      ]
     },
     "execution_count": 245,
     "metadata": {},
     "output_type": "execute_result"
    }
   ],
   "source": [
    "x = [2.0, 3.0, -1.0]\n",
    "n = MLP(3,[4,4,1])\n",
    "\n",
    "n(x) "
   ]
  },
  {
   "cell_type": "code",
   "execution_count": 246,
   "id": "05d5b86d-20b5-46c3-999c-e93050e874fd",
   "metadata": {},
   "outputs": [
    {
     "data": {
      "text/plain": [
       "[Value(data=0.18254165034302194),\n",
       " Value(data=0.5815952473593284),\n",
       " Value(data=-0.6136988147722855),\n",
       " Value(data=0.0626571825808031),\n",
       " Value(data=-0.049129145977418354),\n",
       " Value(data=0.3381412402678665),\n",
       " Value(data=-0.09860813352420528),\n",
       " Value(data=0.3873827970079209),\n",
       " Value(data=-0.431974845194649),\n",
       " Value(data=-0.42321790938062454),\n",
       " Value(data=0.451670041587523),\n",
       " Value(data=-0.13297137986305563),\n",
       " Value(data=0.301966768010846),\n",
       " Value(data=-0.03697524610762559),\n",
       " Value(data=-0.0710552349896103),\n",
       " Value(data=0.145137719373708),\n",
       " Value(data=0.7300630411821238),\n",
       " Value(data=0.8950851189808338),\n",
       " Value(data=-0.5300801884263875),\n",
       " Value(data=0.8333773652828946),\n",
       " Value(data=0.9691638046606477),\n",
       " Value(data=0.45902986331034534),\n",
       " Value(data=-0.19435729583080197),\n",
       " Value(data=-0.6170939207733426),\n",
       " Value(data=-0.9715018251501184),\n",
       " Value(data=-0.7831913170910862),\n",
       " Value(data=-0.8652639695244604),\n",
       " Value(data=-0.20582993008233985),\n",
       " Value(data=0.047598887762450026),\n",
       " Value(data=0.40500066831806203),\n",
       " Value(data=-0.4192872924995641),\n",
       " Value(data=0.20520504432829023),\n",
       " Value(data=0.1795958905192867),\n",
       " Value(data=-0.8409449592803164),\n",
       " Value(data=0.045808932960276216),\n",
       " Value(data=-0.12882271722847527),\n",
       " Value(data=-0.4722083616318393),\n",
       " Value(data=0.03130900812554538),\n",
       " Value(data=0.43021981558584743),\n",
       " Value(data=0.006790842186364721),\n",
       " Value(data=0.15341162448238177)]"
      ]
     },
     "execution_count": 246,
     "metadata": {},
     "output_type": "execute_result"
    }
   ],
   "source": [
    "n.parameters()"
   ]
  },
  {
   "cell_type": "code",
   "execution_count": 247,
   "id": "9d26d97a-536c-4589-b80e-196b75180a7b",
   "metadata": {},
   "outputs": [],
   "source": [
    "xs = [\n",
    "    [2.0, 3.0, -1.0],\n",
    "    [3.0, -1.0, 0.5],\n",
    "    [0.5, 1.0, 1.0],\n",
    "    [1.0, 1.0, -1.0],\n",
    "]\n",
    "\n",
    "ys = [1.0, -1.0, -1.0, 1.0] # desired target "
   ]
  },
  {
   "cell_type": "code",
   "execution_count": 250,
   "id": "12f53edd-16d2-45f7-8fc8-509e4b87b375",
   "metadata": {},
   "outputs": [
    {
     "name": "stdout",
     "output_type": "stream",
     "text": [
      "0 0.0013636462678752075\n",
      "1 0.0013566537344926542\n",
      "2 0.0013497309080421189\n",
      "3 0.0013428767602094412\n",
      "4 0.001336090282720369\n",
      "5 0.001329370486855913\n",
      "6 0.0013227164029818066\n",
      "7 0.0013161270800914108\n",
      "8 0.0013096015853616776\n",
      "9 0.0013031390037217027\n",
      "10 0.0012967384374335648\n",
      "11 0.00129039900568488\n",
      "12 0.0012841198441928372\n",
      "13 0.0012779001048192499\n",
      "14 0.001271738955196279\n",
      "15 0.0012656355783625631\n",
      "16 0.0012595891724093158\n",
      "17 0.0012535989501361003\n",
      "18 0.001247664138716065\n",
      "19 0.0012417839793701607\n"
     ]
    }
   ],
   "source": [
    "# Create empty lists to store the loss values and step numbers\n",
    "loss_values = []\n",
    "steps = []\n",
    "\n",
    "for k in range(20):\n",
    "    # Forward pass\n",
    "    ypred = [n(x) for x in xs]\n",
    "    loss = sum((yout - ygt)**2 for ygt, yout in zip(ys, ypred))\n",
    "\n",
    "\n",
    "    # Backward pass\n",
    "    for p in n.parameters():\n",
    "        p.grad = 0.0\n",
    "    loss.backward()\n",
    "\n",
    "    # Update\n",
    "    for p in n.parameters():\n",
    "        p.data += -0.1 * p.grad\n",
    "\n",
    "    # Append the loss and step number to the lists\n",
    "    loss_values.append(loss.data)\n",
    "    steps.append(k)\n",
    "\n",
    "    print(k, loss.data)\n",
    "\n"
   ]
  },
  {
   "cell_type": "code",
   "execution_count": 251,
   "id": "0563005c-c462-4e4c-9a87-429c04b38400",
   "metadata": {},
   "outputs": [
    {
     "data": {
      "image/png": "[encoded data removed]",
      "text/plain": [
       "<Figure size 640x480 with 1 Axes>"
      ]
     },
     "metadata": {},
     "output_type": "display_data"
    }
   ],
   "source": [
    "# Plot the loss values\n",
    "plt.plot(steps, loss_values)\n",
    "plt.xlabel(\"Step\")\n",
    "plt.ylabel(\"Loss\")\n",
    "plt.title(\"Loss vs. Step\")\n",
    "plt.grid(True)\n",
    "plt.show()"
   ]
  },
  {
   "cell_type": "code",
   "execution_count": 252,
   "id": "d6d2739f-8fff-4e2e-b7d5-0a158ed18008",
   "metadata": {},
   "outputs": [
    {
     "data": {
      "text/plain": [
       "[Value(data=0.9866979428508845),\n",
       " Value(data=-0.9852612509589073),\n",
       " Value(data=-0.977930286452095),\n",
       " Value(data=0.9810122071954391)]"
      ]
     },
     "execution_count": 252,
     "metadata": {},
     "output_type": "execute_result"
    }
   ],
   "source": [
    "ypred"
   ]
  },
  {
   "cell_type": "code",
   "execution_count": null,
   "id": "f74629a8-caea-42b6-8fbf-863a24b91a87",
   "metadata": {},
   "outputs": [],
   "source": []
  }
 ],
 "metadata": {
  "kernelspec": {
   "display_name": "Python 3 (ipykernel)",
   "language": "python",
   "name": "python3"
  },
  "language_info": {
   "codemirror_mode": {
    "name": "ipython",
    "version": 3
   },
   "file_extension": ".py",
   "mimetype": "text/x-python",
   "name": "python",
   "nbconvert_exporter": "python",
   "pygments_lexer": "ipython3",
   "version": "3.11.5"
  }
 },
 "nbformat": 4,
 "nbformat_minor": 5
}
