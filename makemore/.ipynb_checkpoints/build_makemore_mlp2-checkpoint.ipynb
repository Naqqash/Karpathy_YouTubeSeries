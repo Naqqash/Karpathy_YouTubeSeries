{
 "cells": [
  {
   "cell_type": "markdown",
   "id": "3b4ea371-7e9d-4a79-8f32-4fdb651f1ab3",
   "metadata": {},
   "source": [
    "## Makemore Part 3"
   ]
  },
  {
   "cell_type": "code",
   "execution_count": 1,
   "id": "56ad21e5-1f55-49f2-b994-47dc87ea4b41",
   "metadata": {},
   "outputs": [],
   "source": [
    "import torch\n",
    "import torch.nn.functional as F\n",
    "import matplotlib.pyplot as plt # for making figures\n",
    "%matplotlib inline"
   ]
  },
  {
   "cell_type": "code",
   "execution_count": null,
   "id": "881cf80f-a287-4488-9fb8-8574764b68d9",
   "metadata": {},
   "outputs": [],
   "source": []
  }
 ],
 "metadata": {
  "kernelspec": {
   "display_name": "Python 3 (ipykernel)",
   "language": "python",
   "name": "python3"
  },
  "language_info": {
   "codemirror_mode": {
    "name": "ipython",
    "version": 3
   },
   "file_extension": ".py",
   "mimetype": "text/x-python",
   "name": "python",
   "nbconvert_exporter": "python",
   "pygments_lexer": "ipython3",
   "version": "3.11.5"
  }
 },
 "nbformat": 4,
 "nbformat_minor": 5
}
